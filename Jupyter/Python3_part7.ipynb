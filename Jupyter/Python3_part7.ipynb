{
 "cells": [
  {
   "cell_type": "markdown",
   "metadata": {},
   "source": [
    "# 正则表达式"
   ]
  },
  {
   "cell_type": "markdown",
   "metadata": {},
   "source": [
    "\\d  可以匹配一个数字 (==1)<br/>\n",
    "\\w  可以匹配一个字母或数字 (==1)<br/>\n",
    "\\s 可以匹配一个空格，包括Tab等空白符<br/>\n",
    ".  可以匹配任意一个字符 (==1)<br/>\n",
    "\\*  可以匹配任意个字符 (>=0)<br/>\n",
    "\\+  可以匹配至少一个字符 (>=1)<br/>\n",
    "?  可以匹配0个或1个字符 (==0 || ==1)<br/>\n",
    "{n} 可以匹配n个字符 (==n)<br/>\n",
    "{n,m}可以匹配n-m个字符 (>=n && <=m)<br/>\n",
    "[] 可以匹配精确的范围 (==1)<br/>\n",
    "| 表示2选1 (==1)<br/>\n",
    "^ 表示行的开头<br/>\n",
    "$ 表示行的结束<br/>"
   ]
  },
  {
   "cell_type": "markdown",
   "metadata": {},
   "source": [
    "例1：<br/>\n",
    "\\d{3}\\s+\\d{3,8}<br/>\n",
    "\\d{3}表示匹配3个数字，例如'010'；<br/>\n",
    "\n",
    "\\s可以匹配一个空格（也包括Tab等空白符），所以\\s+表示至少有一个空格，例如匹配' '，' '等；<br/>\n",
    "\n",
    "\\d{3,8}表示3-8个数字，例如'1234567'。<br/>\n",
    "\n",
    "综合起来，上面的正则表达式可以匹配以任意个空格隔开的带区号的电话号码。"
   ]
  },
  {
   "cell_type": "markdown",
   "metadata": {},
   "source": [
    "例2：<br/>\n",
    "[0-9a-zA-Z\\_]可以匹配一个数字、字母或者下划线；"
   ]
  },
  {
   "cell_type": "markdown",
   "metadata": {},
   "source": [
    "例3：<br/>\n",
    "[0-9a-zA-Z\\_]+可以匹配至少由一个数字、字母或者下划线组成的字符串，比如'a100'，'0_Z'，'Py3000'等等"
   ]
  },
  {
   "cell_type": "markdown",
   "metadata": {},
   "source": [
    "例4：<br/>\n",
    "[a-zA-Z\\_][0-9a-zA-Z\\_]{0, 19}更精确地限制了变量的长度是1-20个字符（前面1个字符+后面最多19个字符）"
   ]
  },
  {
   "cell_type": "markdown",
   "metadata": {},
   "source": [
    "例5：<br/>\n",
    "A|B可以匹配A或B，所以(P|p)ython可以匹配'Python'或者'python'。"
   ]
  },
  {
   "cell_type": "markdown",
   "metadata": {},
   "source": [
    "例6：<br/>\n",
    "^\\d表示必须以数字开头<br/>\n",
    "\\d$表示必须以数字结束<br/>"
   ]
  },
  {
   "cell_type": "markdown",
   "metadata": {},
   "source": [
    "**使用re.match匹配**"
   ]
  },
  {
   "cell_type": "code",
   "execution_count": 3,
   "metadata": {},
   "outputs": [
    {
     "name": "stdout",
     "output_type": "stream",
     "text": [
      "ok\n"
     ]
    }
   ],
   "source": [
    "import re\n",
    "test = '010-12345'\n",
    "\n",
    "#正则表达式使用r前缀\n",
    "if re.match(r'\\d{3}\\-\\d{3,8}', test):#如果匹配成功，返回一个Match对象\n",
    "    print('ok')\n",
    "else:#否则返回None\n",
    "    print('failed')"
   ]
  },
  {
   "cell_type": "markdown",
   "metadata": {},
   "source": [
    "**切分字符串**"
   ]
  },
  {
   "cell_type": "code",
   "execution_count": 4,
   "metadata": {},
   "outputs": [
    {
     "data": {
      "text/plain": [
       "['a', 'b', '', '', 'c']"
      ]
     },
     "execution_count": 4,
     "metadata": {},
     "output_type": "execute_result"
    }
   ],
   "source": [
    "'a b   c'.split(' ')#无法识别连续的空格"
   ]
  },
  {
   "cell_type": "code",
   "execution_count": 5,
   "metadata": {},
   "outputs": [
    {
     "data": {
      "text/plain": [
       "['a', 'b', 'c']"
      ]
     },
     "execution_count": 5,
     "metadata": {},
     "output_type": "execute_result"
    }
   ],
   "source": [
    "re.split(r'\\s+', 'a b   c')#\\s+表示至少有一个空格"
   ]
  },
  {
   "cell_type": "code",
   "execution_count": 6,
   "metadata": {},
   "outputs": [
    {
     "data": {
      "text/plain": [
       "['a', 'b', 'c', 'd']"
      ]
     },
     "execution_count": 6,
     "metadata": {},
     "output_type": "execute_result"
    }
   ],
   "source": [
    "re.split(r'[\\s\\,]+', 'a,b, c  d')#\\s\\,表示一个空格或者逗号"
   ]
  },
  {
   "cell_type": "code",
   "execution_count": 7,
   "metadata": {},
   "outputs": [
    {
     "data": {
      "text/plain": [
       "['a', 'b', 'c', 'd']"
      ]
     },
     "execution_count": 7,
     "metadata": {},
     "output_type": "execute_result"
    }
   ],
   "source": [
    "re.split(r'[\\s\\,\\;]+', 'a,b;; c  d')#\\s\\,\\;表示一个空格或者逗号或者分号"
   ]
  },
  {
   "cell_type": "markdown",
   "metadata": {},
   "source": [
    "**分组（提取子串）**"
   ]
  },
  {
   "cell_type": "markdown",
   "metadata": {},
   "source": [
    "除了简单地判断是否匹配之外，正则表达式还有提取子串的强大功能。用()表示的就是要提取的分组（Group）<br/>\n",
    "\n",
    "如果正则表达式中定义了组，就可以在Match对象上用group()方法提取出子串来。<br/>\n",
    "^(\\d{3})-(\\d{3,8})$分别定义了两个组，可以直接从匹配的字符串中提取出区号和本地号码："
   ]
  },
  {
   "cell_type": "code",
   "execution_count": 9,
   "metadata": {},
   "outputs": [
    {
     "name": "stdout",
     "output_type": "stream",
     "text": [
      "('010', '12345')\n",
      "010-12345\n",
      "010\n",
      "12345\n"
     ]
    }
   ],
   "source": [
    "m = re.match(r'^(\\d{3})-(\\d{3,8})$', '010-12345')\n",
    "#groups()返回子串组成的tuple\n",
    "print(m.groups())\n",
    "#group(0)永远是原始字符串，group(1)、group(2)……表示第1、2、……个子串。\n",
    "print(m.group(0))\n",
    "print(m.group(1))\n",
    "print(m.group(2))\n"
   ]
  },
  {
   "cell_type": "markdown",
   "metadata": {},
   "source": [
    "**编译**"
   ]
  },
  {
   "cell_type": "markdown",
   "metadata": {},
   "source": [
    "如果一个正则表达式要重复使用几千次，出于效率的考虑，我们可以预编译该正则表达式，接下来重复使用时就不需要编译这个步骤了，直接匹配："
   ]
  },
  {
   "cell_type": "code",
   "execution_count": 10,
   "metadata": {},
   "outputs": [
    {
     "data": {
      "text/plain": [
       "('010', '12345')"
      ]
     },
     "execution_count": 10,
     "metadata": {},
     "output_type": "execute_result"
    }
   ],
   "source": [
    "import re\n",
    "#编译\n",
    "re_telephone = re.compile(r'^(\\d{3})-(\\d{3,8})$')\n",
    "#使用\n",
    "re_telephone.match('010-12345').groups()"
   ]
  },
  {
   "cell_type": "code",
   "execution_count": null,
   "metadata": {},
   "outputs": [],
   "source": []
  }
 ],
 "metadata": {
  "kernelspec": {
   "display_name": "Python 3",
   "language": "python",
   "name": "python3"
  },
  "language_info": {
   "codemirror_mode": {
    "name": "ipython",
    "version": 3
   },
   "file_extension": ".py",
   "mimetype": "text/x-python",
   "name": "python",
   "nbconvert_exporter": "python",
   "pygments_lexer": "ipython3",
   "version": "3.5.2"
  }
 },
 "nbformat": 4,
 "nbformat_minor": 2
}
