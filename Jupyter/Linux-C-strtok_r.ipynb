{
 "cells": [
  {
   "cell_type": "markdown",
   "metadata": {},
   "source": [
    "# 一、函数strtok()"
   ]
  },
  {
   "cell_type": "markdown",
   "metadata": {},
   "source": [
    "(1)函数原型：\n",
    "```\n",
    "char *strtok(char *str1, char *str2)\n",
    "```\n"
   ]
  },
  {
   "cell_type": "markdown",
   "metadata": {},
   "source": [
    "(2)函数功能：<br/>\n",
    "查找由第二个串指定的分界符分开的单词<br/>"
   ]
  },
  {
   "cell_type": "markdown",
   "metadata": {},
   "source": [
    "(3)参考代码1：\n",
    "```\n",
    "#include <stdio.h>\n",
    "#include <stdlib.h>\n",
    "#include <string.h>\n",
    " \n",
    "int main()\n",
    "{\n",
    "        char input[16] = \"abc,d\";\n",
    "        char *p; \n",
    "        p = strtok(input, \",\");\n",
    "        if(p) \n",
    "                printf(\"%s\\n\", p); \n",
    "        p = strtok(NULL, \",\");\n",
    "        if(p)\n",
    "                printf(\"%s\\n\", p); \n",
    "        return 0;\n",
    "}\n",
    "```"
   ]
  },
  {
   "cell_type": "markdown",
   "metadata": {},
   "source": [
    "第一次执行str1要以原始字符串buffer为第一参数,第二次执行要以NULL为第一参数.<br/>\n",
    "结果：<br/>\n",
    "abc<br/>\n",
    "d<br/>"
   ]
  },
  {
   "cell_type": "markdown",
   "metadata": {},
   "source": [
    "参考代码2：Main/Case2"
   ]
  },
  {
   "cell_type": "markdown",
   "metadata": {},
   "source": [
    "(4)strtok()函数的弱点:<br/>\n",
    "例如char buffer[100] = \"Fred male 25,John male 62,Anna female 16\"<br/>\n",
    "多级分割时，第一级分隔符为','，第二级分隔符为空格' '<br/>\n",
    "```\n",
    "#include <stdio.h>\n",
    "#include <string.h>\n",
    " \n",
    "int main()\n",
    "{\n",
    "        int in = 0, j;\n",
    "        char buffer[100] = \"Fred male 25,John male 62,Anna female 16\";\n",
    "        char *p[20];\n",
    "        char *buf = buffer;\n",
    "        while((p[in] = strtok(buf, \",\")) != NULL)\n",
    "        {   \n",
    "                buf = p[in];\n",
    "                while((p[in] = strtok(buf, \" \")) != NULL)\n",
    "                {   \n",
    "                        in++;\n",
    "                        buf = NULL;\n",
    "                }   \n",
    "                p[in++] = \"****\";  //to present the symbol....\n",
    "                buf = NULL;\n",
    "        }   \n",
    "        printf(\"Here we have %d strings \\n\", in);\n",
    "        for(j = 0; j < in; j++)\n",
    "                printf(\">%s<\\n\", p[j]);\n",
    "        return 0;\n",
    "}\n",
    "\n",
    "执行结果为:\n",
    ">Fred<\n",
    ">male<\n",
    ">25<\n",
    ">****<\n",
    "```\n",
    "原因是：在第一次外循环中，strtok将\"Fred male 25,\"后的这个逗号，改为了'/0’，这时strtok内部的this指针指向的是逗号的后一个字符'J’。经过第一次的内循环，分别提取出了“Fred” “male” “25”。提取完\"25”之后，函数内部的this指针被修改指向了\"25”后面的'/0’。内循环结束后（内循环实际执行了4次），开始第二次的外循环，由于函数第一个参数被设定为NULL，strtok将以this指针指向的位置作为分解起始位置。很遗憾，此时this指针指向的是'/0’，strtok对一个空串无法切分，返回NULL。外循环结束。所以，我们只得到了如图所示的第一个人的信息。"
   ]
  },
  {
   "cell_type": "markdown",
   "metadata": {},
   "source": [
    "(5)解决办法：使用strtok_r()函数"
   ]
  },
  {
   "cell_type": "markdown",
   "metadata": {},
   "source": [
    "# 二、函数strtok_r()"
   ]
  },
  {
   "cell_type": "markdown",
   "metadata": {},
   "source": [
    "(1)函数原型：\n",
    "```\n",
    "char *strtok_r(char *s, const char *delim, char **ptrptr);\n",
    "```"
   ]
  },
  {
   "cell_type": "markdown",
   "metadata": {},
   "source": [
    "(2)函数功能：<br/>\n",
    "查找由第二个串指定的分界符分开的单词<br/>\n",
    "strtok_r实际上就是将strtok内部隐式保存的this指针，以参数的形式与函数外部进行交互。由调用者进行传递、保存甚至是修改。需要调用者在连续切分相同源字符串时，除了将str参数赋值为NULL，还要传递上次切分时保存下的saveptr。"
   ]
  },
  {
   "cell_type": "markdown",
   "metadata": {},
   "source": [
    "(3)参考代码：<br/>\n",
    "```\n",
    "#include <stdio.h>\n",
    "#include <string.h>\n",
    "#include <stdlib.h>\n",
    " \n",
    "int main()\n",
    "{\n",
    "        int in = 0, j;\n",
    "        char buffer[100] = \"Fred male 25,John male 62,Anna female 16\";\n",
    "        char *p[20];\n",
    "        char *buf = buffer;\n",
    "        char *outer_ptr = NULL;\n",
    "        char *inner_ptr = NULL;\n",
    "        while((p[in] = strtok_r(buf, \",\", &outer_ptr)) != NULL) \n",
    "        {   \n",
    "                buf = p[in];\n",
    "                while((p[in] = strtok_r(buf, \" \", &inner_ptr)) != NULL)\n",
    "                {    \n",
    "                        in++;\n",
    "                        buf = NULL;\n",
    "                }   \n",
    "                buf = NULL;\n",
    "        }   \n",
    "        printf(\"Here we have %d strings\\n\", in);\n",
    "        for(j = 0; j < in; j++)\n",
    "                printf(\">%s<\\n\", p[j]);\n",
    "        return 0;\n",
    "}\n",
    "执行结果:\n",
    ">Fred<\n",
    ">male<\n",
    ">25<\n",
    ">John<\n",
    ">male<\n",
    ">62<\n",
    ">Anna<\n",
    ">female<\n",
    ">16<\n",
    "```"
   ]
  },
  {
   "cell_type": "markdown",
   "metadata": {},
   "source": [
    "调用strtok_r的代码比调用strtok的代码多了两个指针，outer_ptr和inner_ptr。outer_ptr用于标记每个人的提取位置，即外循环；inner_ptr用于标记每个人内部每项信息的提取位置，即内循环。具体过程如下：\n",
    "\n",
    "（1）第1次外循环，outer_ptr忽略，对整个源串提取，提取出\"Fred male 25\"，分隔符',' 被修改为了'/0’，outer_ptr返回指向'J’。\n",
    "\n",
    "（2）第一次内循环，inner_ptr忽略，对第1次外循环的提取结果\"Fred male 25\"进行提取，提取出了\"Fred\"，分隔符' '被修改为了'/0'，inner_ptr返回指向'm'。\n",
    "\n",
    "（3）第二次内循环，传递第一次内循环返回的inner_ptr，第一个参数为NULL，从inner_ptr指向的位置'm'开始提取，提取出了\"male\"，分隔符  ' '被修改为了'/0'，inner_ptr返回指向'2'。\n",
    "\n",
    "（4）第三次内循环，传递第二次内循环返回的inner_ptr，第一个参数为NULL，从inner_ptr指向的位置'2'开始提取，提取出了\"25\"，因为没有找到' '，inner_ptr返回指向25后的'/0'。\n",
    "\n",
    "（5）第四次内循环，传递第三次内循环返回的inner_ptr，第一个参数为NULL，因为inner_ptr指向的位置为'/0'，无法提取，返回空值。结束内循环。\n",
    "\n",
    "（6）第2次外循环，传递第1次外循环返回的outer_ptr，第一个参数为NULL，从outer_ptr指向的位置'J'开始提取，提取出\"John male 62\"，分隔符',’被修改为了'/0’，outer_ptr返回指向'A’。（调用strtok则卡死在了这一步）\n",
    "\n",
    "……以此类推，外循环一次提取一个人的全部信息，内循环从外循环的提取结果中，二次提取个人单项信息。\n",
    "\n",
    "可以看到strtok_r将原内部指针显示化，提供了saveptr这个参数。增加了函数的灵活性和安全性。\n",
    "\n"
   ]
  },
  {
   "cell_type": "markdown",
   "metadata": {},
   "source": [
    "转：https://blog.csdn.net/buaa_shang/article/details/8189984"
   ]
  }
 ],
 "metadata": {
  "kernelspec": {
   "display_name": "Python 3",
   "language": "python",
   "name": "python3"
  },
  "language_info": {
   "codemirror_mode": {
    "name": "ipython",
    "version": 3
   },
   "file_extension": ".py",
   "mimetype": "text/x-python",
   "name": "python",
   "nbconvert_exporter": "python",
   "pygments_lexer": "ipython3",
   "version": "3.5.2"
  }
 },
 "nbformat": 4,
 "nbformat_minor": 2
}
