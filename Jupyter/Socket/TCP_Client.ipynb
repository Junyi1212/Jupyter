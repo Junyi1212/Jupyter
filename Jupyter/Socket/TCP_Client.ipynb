{
 "cells": [
  {
   "cell_type": "code",
   "execution_count": null,
   "metadata": {},
   "outputs": [],
   "source": [
    "import socket\n",
    "import time\n",
    "import threading"
   ]
  },
  {
   "cell_type": "code",
   "execution_count": null,
   "metadata": {},
   "outputs": [],
   "source": [
    "clientNum = 0"
   ]
  },
  {
   "cell_type": "code",
   "execution_count": null,
   "metadata": {},
   "outputs": [],
   "source": [
    "def tcpConnect():\n",
    "    global clientNum\n",
    "    clientNum += 1\n",
    "    sendData = b'HelloPython%d' % clientNum\n",
    "    client_fd = socket.socket(socket.AF_INET, socket.SOCK_STREAM)\n",
    "    client_fd.connect(('127.0.0.1', 9999))\n",
    "    print(client_fd.recv(1024).decode('utf-8'))\n",
    "    print ('\\n')\n",
    "    client_fd.send(sendData)\n",
    "    print(client_fd.recv(1024).decode('utf-8'))\n",
    "    print ('\\n')"
   ]
  },
  {
   "cell_type": "code",
   "execution_count": null,
   "metadata": {},
   "outputs": [],
   "source": [
    "for i in range(100):\n",
    "    client_thread = threading.Thread(target=tcpConnect, name='tcpConnect')\n",
    "    client_thread.start()"
   ]
  }
 ],
 "metadata": {
  "kernelspec": {
   "display_name": "Python 3",
   "language": "python",
   "name": "python3"
  },
  "language_info": {
   "codemirror_mode": {
    "name": "ipython",
    "version": 3
   },
   "file_extension": ".py",
   "mimetype": "text/x-python",
   "name": "python",
   "nbconvert_exporter": "python",
   "pygments_lexer": "ipython3",
   "version": "3.5.2"
  }
 },
 "nbformat": 4,
 "nbformat_minor": 2
}
