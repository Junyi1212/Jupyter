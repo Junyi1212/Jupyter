{
 "cells": [
  {
   "cell_type": "markdown",
   "metadata": {},
   "source": [
    "# 一、IO编程"
   ]
  },
  {
   "cell_type": "markdown",
   "metadata": {},
   "source": [
    "**1.文件读写**"
   ]
  },
  {
   "cell_type": "code",
   "execution_count": null,
   "metadata": {},
   "outputs": [],
   "source": [
    "with open('Text.txt', 'r') as f:\n",
    "    #print(f.read())#一次读完\n",
    "    for line in f.readlines():#一次读一行\n",
    "        print(line.strip()) # 把末尾的'\\n'删掉"
   ]
  },
  {
   "cell_type": "markdown",
   "metadata": {},
   "source": [
    "文件操作：<br/>\n",
    "os.mknod(\"test.txt\") 创建空文件<br/>\n",
    "fp = open(\"test.txt\",'w') 直接打开一个文件，如果文件不存在则创建文件<br/>\n",
    "<br/>\n",
    "关于open 模式：<br/>\n",
    "<br/>\n",
    "w 以写方式打开，<br/>\n",
    "a 以追加模式打开 (从 EOF 开始, 必要时创建新文件)<br/>\n",
    "r+ 以读写模式打开<br/>\n",
    "w+ 以读写模式打开 (参见 w )<br/>\n",
    "a+ 以读写模式打开 (参见 a )<br/>\n",
    "rb 以二进制读模式打开<br/>\n",
    "wb 以二进制写模式打开 (参见 w )<br/>\n",
    "ab 以二进制追加模式打开 (参见 a )<br/>\n",
    "rb+ 以二进制读写模式打开 (参见 r+ )<br/>\n",
    "wb+ 以二进制读写模式打开 (参见 w+ )<br/>\n",
    "ab+ 以二进制读写模式打开 (参见 a+ )<br/>\n",
    "<br/>\n",
    "fp.read([size]) #size为读取的长度，以byte为单位<br/>\n",
    "fp.readline([size]) #读一行，如果定义了size，有可能返回的只是一行的一部分<br/>\n",
    "fp.readlines([size]) #把文件每一行作为一个list的一个成员，并返回这个list。其实它的内部是通过循环调用readline()来实现的。如果提供size参数，size是表示读取内容的总长，也就是说可能只读到文件的一部分。<br/>\n",
    "<br/>\n",
    "fp.write(str) #把str写到文件中，write()并不会在str后加上一个换行符<br/>\n",
    "fp.writelines(seq) #把seq的内容全部写到文件中(多行一次性写入)。这个函数也只是忠实地写入，不会在每行后面加上任何东西。<br/>\n",
    "<br/>\n",
    "fp.close() #关闭文件。python会在一个文件不用后自动关闭文件，不过这一功能没有保证，最好还是养成自己关闭的习惯。 如果一个文件在关闭后还对其进行操作会产生ValueError<br/>\n",
    "<br/>\n",
    "fp.flush() #把缓冲区的内容写入硬盘<br/>\n",
    "<br/>\n",
    "fp.fileno() #返回一个长整型的”文件标签“\n",
    "\n",
    "fp.isatty() #文件是否是一个终端设备文件（unix系统中的）\n",
    "\n",
    "fp.tell() #返回文件操作标记的当前位置，以文件的开头为原点\n",
    "\n",
    "fp.next() #返回下一行，并将文件操作标记位移到下一行。把一个file用于for … in file这样的语句时，就是调用next()函数来实现遍历的。\n",
    "\n",
    "fp.seek(offset[,whence]) #将文件打操作标记移到offset的位置。这个offset一般是相对于文件的开头来计算的，一般为正数。但如果提供了whence参数就不一定了，whence可以为0表示从头开始计算，1表示以当前位置为原点计算。2表示以文件末尾为原点进行计算。需要注意，如果文件以a或a+的模式打开，每次进行写操作时，文件操作标记会自动返回到文件末尾。\n",
    "\n",
    "fp.truncate([size]) #把文件裁成规定的大小，默认的是裁到当前文件操作标记的位置。如果size比文件的大小还要大，依据系统的不同可能是不改变文件，也可能是用0把文件补到相应的大小，也可能是以一些随机的内容加上去。"
   ]
  },
  {
   "cell_type": "markdown",
   "metadata": {},
   "source": [
    "**2.内存读写**"
   ]
  },
  {
   "cell_type": "markdown",
   "metadata": {},
   "source": [
    "StringIO就是在内存中读写str"
   ]
  },
  {
   "cell_type": "code",
   "execution_count": null,
   "metadata": {},
   "outputs": [],
   "source": [
    "from io import StringIO\n",
    "f1 = StringIO()\n",
    "f1.write('hello')\n",
    "f1.write(' ')\n",
    "f1.write('world!')\n",
    "print(f1.getvalue())#getvalue()方法用于获得写入后的str"
   ]
  },
  {
   "cell_type": "code",
   "execution_count": null,
   "metadata": {},
   "outputs": [],
   "source": [
    "f2 = StringIO('Hello!\\nHi!\\nGoodbye!')#可以用一个str初始化StringIO\n",
    "f2.read()"
   ]
  },
  {
   "cell_type": "markdown",
   "metadata": {},
   "source": [
    "BytesIO就是在内存中读写二进制数据"
   ]
  },
  {
   "cell_type": "code",
   "execution_count": null,
   "metadata": {},
   "outputs": [],
   "source": [
    "from io import BytesIO\n",
    "f3 = BytesIO()\n",
    "f3.write('中文'.encode('utf-8'))\n",
    "print(f3.getvalue())"
   ]
  },
  {
   "cell_type": "code",
   "execution_count": null,
   "metadata": {},
   "outputs": [],
   "source": [
    "f4 = BytesIO(b'\\xe4\\xb8\\xad\\xe6\\x96\\x87')\n",
    "f4.read()"
   ]
  },
  {
   "cell_type": "markdown",
   "metadata": {},
   "source": [
    "**3.操作文件和目录**"
   ]
  },
  {
   "cell_type": "code",
   "execution_count": null,
   "metadata": {},
   "outputs": [],
   "source": [
    "import os\n",
    "import shutil\n",
    "os.name#操作系统类型，posix:Linux、Unix、Mac OS X; nt:Windows"
   ]
  },
  {
   "cell_type": "code",
   "execution_count": null,
   "metadata": {},
   "outputs": [],
   "source": [
    "os.uname()#获取详细的系统信息，Windows上不提供"
   ]
  },
  {
   "cell_type": "code",
   "execution_count": null,
   "metadata": {},
   "outputs": [],
   "source": [
    "os.system()#运行shell命令"
   ]
  },
  {
   "cell_type": "code",
   "execution_count": null,
   "metadata": {},
   "outputs": [],
   "source": [
    "os.exit()#终止当前进程"
   ]
  },
  {
   "cell_type": "code",
   "execution_count": null,
   "metadata": {},
   "outputs": [],
   "source": [
    "os.stat（\"file.txt\"）#获取文件属性，Linux起作用"
   ]
  },
  {
   "cell_type": "code",
   "execution_count": null,
   "metadata": {},
   "outputs": [],
   "source": [
    "os.environ.get('PATH')#获取环境变量"
   ]
  },
  {
   "cell_type": "code",
   "execution_count": null,
   "metadata": {},
   "outputs": [],
   "source": [
    "os.path.abspath('.') #查看当前目录的绝对路径:"
   ]
  },
  {
   "cell_type": "code",
   "execution_count": null,
   "metadata": {},
   "outputs": [],
   "source": [
    "os.path.join('Users', 'testdir')#拼接完整目录"
   ]
  },
  {
   "cell_type": "code",
   "execution_count": null,
   "metadata": {},
   "outputs": [],
   "source": [
    "os.getcwd()#获取当前目录"
   ]
  },
  {
   "cell_type": "code",
   "execution_count": null,
   "metadata": {},
   "outputs": [],
   "source": [
    "os.listdir(\".\")#获取指定目录下的所有文件和目录名"
   ]
  },
  {
   "cell_type": "code",
   "execution_count": null,
   "metadata": {},
   "outputs": [],
   "source": [
    "os.path.isdir(\"\")#检查是否是一个路径"
   ]
  },
  {
   "cell_type": "code",
   "execution_count": null,
   "metadata": {},
   "outputs": [],
   "source": [
    "os.path.isabs(\"\")#检查是否是一个绝对路径"
   ]
  },
  {
   "cell_type": "code",
   "execution_count": null,
   "metadata": {},
   "outputs": [],
   "source": [
    "os.path.exists(\"\")#检查路径是否存在"
   ]
  },
  {
   "cell_type": "code",
   "execution_count": null,
   "metadata": {},
   "outputs": [],
   "source": [
    "os.mkdir(\"tesdir\")#创建一个目录"
   ]
  },
  {
   "cell_type": "code",
   "execution_count": null,
   "metadata": {},
   "outputs": [],
   "source": [
    "os.rmdir(\"tesdir\")#删掉一个目录:"
   ]
  },
  {
   "cell_type": "code",
   "execution_count": null,
   "metadata": {},
   "outputs": [],
   "source": [
    "os.path.split('/Users/michael/testdir/file.txt')#拆分路径和文件"
   ]
  },
  {
   "cell_type": "code",
   "execution_count": null,
   "metadata": {},
   "outputs": [],
   "source": [
    "os.path.splitext('/path/to/file.txt')#拆分扩展名"
   ]
  },
  {
   "cell_type": "code",
   "execution_count": null,
   "metadata": {},
   "outputs": [],
   "source": [
    "os.path.dirname('/Users/michael/testdir/file.txt')#获取路径名"
   ]
  },
  {
   "cell_type": "code",
   "execution_count": null,
   "metadata": {},
   "outputs": [],
   "source": [
    "os.path.basename('/Users/michael/testdir/file.txt')#获取文件名"
   ]
  },
  {
   "cell_type": "code",
   "execution_count": null,
   "metadata": {},
   "outputs": [],
   "source": [
    "os.rename('Text.txt', 'text.py')#重命名文件"
   ]
  },
  {
   "cell_type": "code",
   "execution_count": null,
   "metadata": {},
   "outputs": [],
   "source": [
    "os.remove('text.py')#删除文件"
   ]
  },
  {
   "cell_type": "code",
   "execution_count": null,
   "metadata": {},
   "outputs": [],
   "source": [
    "os.path.isfile(\"\")#检查是否是一个文件"
   ]
  },
  {
   "cell_type": "code",
   "execution_count": null,
   "metadata": {},
   "outputs": [],
   "source": [
    "os.path.islink(\"\")#检查是否是一个链接"
   ]
  },
  {
   "cell_type": "code",
   "execution_count": null,
   "metadata": {},
   "outputs": [],
   "source": [
    "[x for x in os.listdir('.') if os.path.isdir(x)]#列出当前目录下的所有目录"
   ]
  },
  {
   "cell_type": "code",
   "execution_count": null,
   "metadata": {},
   "outputs": [],
   "source": [
    "[x for x in os.listdir('.') if os.path.isfile(x) and os.path.splitext(x)[1]=='.py']#列出所有的.py文件"
   ]
  },
  {
   "cell_type": "markdown",
   "metadata": {},
   "source": [
    "**4.数据存储（序列化）**"
   ]
  },
  {
   "cell_type": "markdown",
   "metadata": {},
   "source": [
    "把任意对象序列化成一个bytes"
   ]
  },
  {
   "cell_type": "code",
   "execution_count": null,
   "metadata": {},
   "outputs": [],
   "source": [
    "import pickle\n",
    "d = dict(name='Bob', age=20, score=88)\n",
    "#pickle.dumps(d)\n",
    "#或者直接写入文件\n",
    "fd = open('dump.txt','wb')\n",
    "pickle.dump(d, fd)\n",
    "fd.close()"
   ]
  },
  {
   "cell_type": "markdown",
   "metadata": {},
   "source": [
    "把bytes反序列化成对象"
   ]
  },
  {
   "cell_type": "code",
   "execution_count": null,
   "metadata": {},
   "outputs": [],
   "source": [
    "fd = open('dump.txt','rb')\n",
    "d = pickle.load(fd)\n",
    "fd.close()\n",
    "os.remove('dump.txt')\n",
    "d"
   ]
  },
  {
   "cell_type": "markdown",
   "metadata": {},
   "source": [
    "Pickle的问题和所有其他编程语言特有的序列化问题一样，就是它只能用于Python，并且可能不同版本的Python彼此都不兼容，因此，只能用Pickle保存那些不重要的数据，不能成功地反序列化也没关系。"
   ]
  },
  {
   "cell_type": "markdown",
   "metadata": {},
   "source": [
    "JSON"
   ]
  },
  {
   "cell_type": "markdown",
   "metadata": {},
   "source": [
    "|JSON类型|Python类型|\n",
    "|---|---|\n",
    "|{}\t|dict|\n",
    "|[]\t|list|\n",
    "|\"string\"|str|\n",
    "|1234.56|int或float|\n",
    "|true/false|True/False|\n",
    "|null|None|"
   ]
  },
  {
   "cell_type": "markdown",
   "metadata": {},
   "source": [
    "把任意对象序列化成一个json"
   ]
  },
  {
   "cell_type": "code",
   "execution_count": null,
   "metadata": {},
   "outputs": [],
   "source": [
    "import json\n",
    "d = dict(name='Bob', age=20, score=88)\n",
    "#json.dumps(d)\n",
    "#或者直接写入文件\n",
    "fd = open('dump.txt','w')\n",
    "json.dump(d, fd)\n",
    "fd.close()"
   ]
  },
  {
   "cell_type": "markdown",
   "metadata": {},
   "source": [
    "把json反序列化成对象"
   ]
  },
  {
   "cell_type": "code",
   "execution_count": null,
   "metadata": {},
   "outputs": [],
   "source": [
    "fd = open('dump.txt','r')\n",
    "d = json.load(fd)\n",
    "fd.close()\n",
    "os.remove('dump.txt')\n",
    "d"
   ]
  },
  {
   "cell_type": "markdown",
   "metadata": {},
   "source": [
    "把类对象序列化成一个json"
   ]
  },
  {
   "cell_type": "code",
   "execution_count": null,
   "metadata": {},
   "outputs": [],
   "source": [
    "class Student(object):\n",
    "    def __init__(self, name, age, score):\n",
    "        self.name = name\n",
    "        self.age = age\n",
    "        self.score = score\n",
    "\n",
    "def student2dict(std):\n",
    "    return {\n",
    "        'name': std.name,\n",
    "        'age': std.age,\n",
    "        'score': std.score\n",
    "    }\n",
    "s = Student('Bob', 20, 88)\n",
    "#Student实例首先被student2dict()函数转换成dict，然后再被顺利序列化为JSON：\n",
    "#print(json.dumps(s, default=student2dict))\n",
    "#或者\n",
    "#通常class的实例都有一个__dict__属性，它就是一个dict，用来存储实例变量。也有少数例外，比如定义了__slots__的class。\n",
    "print(json.dumps(s, default=lambda obj: obj.__dict__))"
   ]
  },
  {
   "cell_type": "markdown",
   "metadata": {},
   "source": [
    "把json反序列化成类对象"
   ]
  },
  {
   "cell_type": "code",
   "execution_count": null,
   "metadata": {},
   "outputs": [],
   "source": [
    "def dict2student(d):\n",
    "    return Student(d['name'], d['age'], d['score'])\n",
    "\n",
    "json_str = '{\"age\": 20, \"score\": 88, \"name\": \"Bob\"}'\n",
    "#loads()方法首先转换出一个dict对象，然后，我们传入的object_hook函数负责把dict转换为Student实例：\n",
    "print(json.loads(json_str, object_hook=dict2student))"
   ]
  },
  {
   "cell_type": "code",
   "execution_count": null,
   "metadata": {},
   "outputs": [],
   "source": []
  }
 ],
 "metadata": {
  "kernelspec": {
   "display_name": "Python 3",
   "language": "python",
   "name": "python3"
  },
  "language_info": {
   "codemirror_mode": {
    "name": "ipython",
    "version": 3
   },
   "file_extension": ".py",
   "mimetype": "text/x-python",
   "name": "python",
   "nbconvert_exporter": "python",
   "pygments_lexer": "ipython3",
   "version": "3.5.2"
  }
 },
 "nbformat": 4,
 "nbformat_minor": 2
}
