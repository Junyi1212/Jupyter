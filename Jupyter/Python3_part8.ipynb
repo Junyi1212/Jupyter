{
 "cells": [
  {
   "cell_type": "markdown",
   "metadata": {},
   "source": [
    "# 常用build_in模块"
   ]
  },
  {
   "cell_type": "markdown",
   "metadata": {},
   "source": [
    "**1.datetime**"
   ]
  },
  {
   "cell_type": "markdown",
   "metadata": {},
   "source": [
    "datetime是Python处理日期和时间的标准库。"
   ]
  },
  {
   "cell_type": "code",
   "execution_count": null,
   "metadata": {},
   "outputs": [],
   "source": [
    "from datetime import datetime\n",
    "now = datetime.now()# 获取当前datetime\n",
    "print(now)"
   ]
  },
  {
   "cell_type": "code",
   "execution_count": null,
   "metadata": {},
   "outputs": [],
   "source": [
    "stamp = now.timestamp()#datetime转换为timestamp\n",
    "print(stamp)"
   ]
  },
  {
   "cell_type": "code",
   "execution_count": null,
   "metadata": {},
   "outputs": [],
   "source": [
    "localtime = datetime.fromtimestamp(stamp)#timestamp转换为datetime (本地时间)\n",
    "print(localtime)\n",
    "utctime = datetime.utcfromtimestamp(stamp)#timestamp转换为datetime (UTC时间)\n",
    "print(utctime)"
   ]
  },
  {
   "cell_type": "code",
   "execution_count": null,
   "metadata": {},
   "outputs": [],
   "source": [
    "cday = datetime.strptime('2015-6-1 18:19:59', '%Y-%m-%d %H:%M:%S')#str转换为datetime\n",
    "print(cday)"
   ]
  },
  {
   "cell_type": "code",
   "execution_count": null,
   "metadata": {},
   "outputs": [],
   "source": [
    "now = datetime.now()#datetime转换为str\n",
    "print(now.strftime('%a, %b %d %H:%M'))"
   ]
  },
  {
   "cell_type": "code",
   "execution_count": null,
   "metadata": {},
   "outputs": [],
   "source": [
    "from datetime import datetime, timedelta\n",
    "now = datetime.now()\n",
    "now"
   ]
  },
  {
   "cell_type": "code",
   "execution_count": null,
   "metadata": {},
   "outputs": [],
   "source": [
    "#对日期和时间进行加减实际上就是把datetime往后或往前计算，得到新的datetime。\n",
    "#加减可以直接用+和-运算符，不过需要导入timedelta这个类：\n",
    "now + timedelta(hours=10)"
   ]
  },
  {
   "cell_type": "markdown",
   "metadata": {},
   "source": [
    "**2.collections**"
   ]
  },
  {
   "cell_type": "markdown",
   "metadata": {},
   "source": [
    "collections模块提供了一些有用的集合类，可以根据需要选用。"
   ]
  },
  {
   "cell_type": "markdown",
   "metadata": {},
   "source": [
    "namedtuple"
   ]
  },
  {
   "cell_type": "markdown",
   "metadata": {},
   "source": [
    "namedtuple是一个函数，它用来创建一个自定义的tuple对象，并且规定了tuple元素的个数，并可以用属性而不是索引来引用tuple的某个元素。\n",
    "\n",
    "这样一来，我们用namedtuple可以很方便地定义一种数据类型，它具备tuple的不变性，又可以根据属性来引用，使用十分方便。"
   ]
  },
  {
   "cell_type": "code",
   "execution_count": null,
   "metadata": {},
   "outputs": [],
   "source": [
    "from collections import namedtuple\n",
    "Point = namedtuple('Point', ['x','y'])\n",
    "p = Point(1,2)\n",
    "print(p.x)\n",
    "print(p.y)"
   ]
  },
  {
   "cell_type": "markdown",
   "metadata": {},
   "source": [
    "deque"
   ]
  },
  {
   "cell_type": "markdown",
   "metadata": {},
   "source": [
    "deque是为了高效实现插入和删除操作的双向列表，适合用于队列和栈："
   ]
  },
  {
   "cell_type": "code",
   "execution_count": null,
   "metadata": {},
   "outputs": [],
   "source": [
    "from collections import deque\n",
    "q = deque(['a', 'b', 'c'])\n",
    "q.append('x')\n",
    "q.appendleft('y')\n",
    "q"
   ]
  },
  {
   "cell_type": "markdown",
   "metadata": {},
   "source": [
    "OrderedDict"
   ]
  },
  {
   "cell_type": "markdown",
   "metadata": {},
   "source": [
    "使用dict时，Key是无序的。在对dict做迭代时，我们无法确定Key的顺序。\n",
    "\n",
    "如果要保持Key的顺序，可以用OrderedDict：\n",
    "\n",
    "注意，OrderedDict的Key会按照插入的顺序排列，不是Key本身排序："
   ]
  },
  {
   "cell_type": "code",
   "execution_count": null,
   "metadata": {},
   "outputs": [],
   "source": [
    "from collections import OrderedDict\n",
    "d = dict([('a',1), ('b', 2), ('c', 3)])\n",
    "print(d)\n",
    "od = OrderedDict([('a',1), ('b', 2), ('c', 3)])\n",
    "print(od)"
   ]
  },
  {
   "cell_type": "markdown",
   "metadata": {},
   "source": [
    "**3.base64**"
   ]
  },
  {
   "cell_type": "markdown",
   "metadata": {},
   "source": [
    "Base64是一种任意二进制到文本字符串的编码方法，常用于在URL、Cookie、网页中传输少量二进制数据"
   ]
  },
  {
   "cell_type": "markdown",
   "metadata": {},
   "source": [
    "**4.struct**"
   ]
  },
  {
   "cell_type": "markdown",
   "metadata": {},
   "source": [
    "struct的pack函数把任意数据类型变成bytes："
   ]
  },
  {
   "cell_type": "code",
   "execution_count": null,
   "metadata": {},
   "outputs": [],
   "source": [
    "import struct\n",
    "struct.pack('>I', 10240099)"
   ]
  },
  {
   "cell_type": "markdown",
   "metadata": {},
   "source": [
    "unpack把bytes变成相应的数据类型："
   ]
  },
  {
   "cell_type": "code",
   "execution_count": null,
   "metadata": {},
   "outputs": [],
   "source": [
    "struct.unpack('>IH', b'\\xf0\\xf0\\xf0\\xf0\\x80\\x80')"
   ]
  },
  {
   "cell_type": "markdown",
   "metadata": {},
   "source": [
    ">表示字节顺序是big-endian，也就是网络序\n",
    "<表示字节顺序是little-endian\n",
    "\n",
    "其他struct模块定义的数据类型可以参考Python官方文档：\n",
    "https://docs.python.org/3/library/struct.html#format-characters"
   ]
  },
  {
   "cell_type": "markdown",
   "metadata": {},
   "source": [
    "**4.hashlib/hmac**"
   ]
  },
  {
   "cell_type": "markdown",
   "metadata": {},
   "source": [
    "hashlib提供了常见的摘要算法，如MD5，SHA1等等。\n",
    "\n",
    "什么是摘要算法呢？摘要算法又称哈希算法、散列算法。它通过一个函数，把任意长度的数据转换为一个长度固定的数据串（通常用16进制的字符串表示）。"
   ]
  },
  {
   "cell_type": "code",
   "execution_count": null,
   "metadata": {},
   "outputs": [],
   "source": [
    "import hashlib\n",
    "\n",
    "md5 = hashlib.md5()\n",
    "md5.update('how to use md5 in python hashlib?'.encode('utf-8'))\n",
    "print(md5.hexdigest())"
   ]
  },
  {
   "cell_type": "markdown",
   "metadata": {},
   "source": [
    "Hmac算法：Keyed-Hashing for Message Authentication。它通过一个标准算法，在计算哈希的过程中，把key混入计算过程中。"
   ]
  },
  {
   "cell_type": "code",
   "execution_count": null,
   "metadata": {},
   "outputs": [],
   "source": [
    "import hmac\n",
    "message = b'Hello world'\n",
    "key = b'secret'\n",
    "h = hmac.new(key,message,digestmod='MD5')\n",
    "h.hexdigest()"
   ]
  },
  {
   "cell_type": "markdown",
   "metadata": {},
   "source": [
    "**5.itertools**"
   ]
  },
  {
   "cell_type": "markdown",
   "metadata": {},
   "source": [
    "模块itertools提供了非常有用的用于操作迭代对象的函数"
   ]
  },
  {
   "cell_type": "code",
   "execution_count": null,
   "metadata": {},
   "outputs": [],
   "source": [
    "import itertools"
   ]
  },
  {
   "cell_type": "markdown",
   "metadata": {},
   "source": [
    "#无限迭代器，根本停不下来\n",
    "~~~\n",
    "natuals = itertools.count(1)\n",
    "for n in natuals:\n",
    "    print(n)\n",
    "'''\n",
    "...\n",
    "1\n",
    "2\n",
    "3\n",
    "...\n",
    "'''   \n",
    "cs = itertools.cycle('ABC')\n",
    "for c in cs:\n",
    "    print(c)\n",
    "'''\n",
    "...\n",
    "'A'\n",
    "'B'\n",
    "'C'\n",
    "'A'\n",
    "'B'\n",
    "'C'\n",
    "...\n",
    "'''\n",
    "ns = itertools.repeat('A', 3)\n",
    "for n in ns:\n",
    "    print(n)\n",
    "'''\n",
    "...\n",
    "A\n",
    "A\n",
    "A\n",
    "'''\n",
    "~~~"
   ]
  },
  {
   "cell_type": "code",
   "execution_count": null,
   "metadata": {},
   "outputs": [],
   "source": [
    "#可以通过takewhile()等函数根据条件判断来截取出一个有限的序列：\n",
    "natuals = itertools.count(1)\n",
    "ns = itertools.takewhile(lambda x: x <= 10, natuals)\n",
    "list(ns)"
   ]
  },
  {
   "cell_type": "code",
   "execution_count": null,
   "metadata": {},
   "outputs": [],
   "source": [
    "#chain()可以把一组迭代对象串联起来，形成一个更大的迭代器：\n",
    "for c in itertools.chain('ABC', 'XYZ'):\n",
    "    print(c)"
   ]
  },
  {
   "cell_type": "code",
   "execution_count": null,
   "metadata": {},
   "outputs": [],
   "source": [
    "#groupby()把迭代器中相邻的重复元素挑出来放在一起：\n",
    "for key, group in itertools.groupby('AAABBBCCAAA'):\n",
    "    print(key, list(group))"
   ]
  },
  {
   "cell_type": "markdown",
   "metadata": {},
   "source": [
    "**6.contextlib**"
   ]
  },
  {
   "cell_type": "markdown",
   "metadata": {},
   "source": [
    "任何对象，只要正确实现了上下文管理，就可以用于with语句。"
   ]
  },
  {
   "cell_type": "markdown",
   "metadata": {},
   "source": [
    "**7.urllib**"
   ]
  },
  {
   "cell_type": "markdown",
   "metadata": {},
   "source": [
    "urllib提供了一系列用于操作URL的功能。"
   ]
  },
  {
   "cell_type": "markdown",
   "metadata": {},
   "source": [
    "**8.XML**"
   ]
  },
  {
   "cell_type": "markdown",
   "metadata": {},
   "source": [
    "**9.HTMLParser**"
   ]
  },
  {
   "cell_type": "code",
   "execution_count": null,
   "metadata": {},
   "outputs": [],
   "source": [
    "from html.parser import HTMLParser\n",
    "from html.entities import name2codepoint\n",
    "\n",
    "class MyHTMLParser(HTMLParser):\n",
    "\n",
    "    def handle_starttag(self, tag, attrs):\n",
    "        print('<%s>' % tag)\n",
    "\n",
    "    def handle_endtag(self, tag):\n",
    "        print('</%s>' % tag)\n",
    "\n",
    "    def handle_startendtag(self, tag, attrs):\n",
    "        print('<%s/>' % tag)\n",
    "\n",
    "    def handle_data(self, data):\n",
    "        print(data)\n",
    "\n",
    "    def handle_comment(self, data):\n",
    "        print('<!--', data, '-->')\n",
    "\n",
    "    def handle_entityref(self, name):\n",
    "        print('&%s;' % name)\n",
    "\n",
    "    def handle_charref(self, name):\n",
    "        print('&#%s;' % name)\n",
    "\n",
    "parser = MyHTMLParser()\n",
    "parser.feed('''<html>\n",
    "<head></head>\n",
    "<body>\n",
    "<!-- test html parser -->\n",
    "    <p>Some <a href=\\\"#\\\">html</a> HTML&nbsp;tutorial...<br>END</p>\n",
    "</body></html>''')"
   ]
  }
 ],
 "metadata": {
  "kernelspec": {
   "display_name": "Python 3",
   "language": "python",
   "name": "python3"
  },
  "language_info": {
   "codemirror_mode": {
    "name": "ipython",
    "version": 3
   },
   "file_extension": ".py",
   "mimetype": "text/x-python",
   "name": "python",
   "nbconvert_exporter": "python",
   "pygments_lexer": "ipython3",
   "version": "3.5.2"
  }
 },
 "nbformat": 4,
 "nbformat_minor": 2
}
