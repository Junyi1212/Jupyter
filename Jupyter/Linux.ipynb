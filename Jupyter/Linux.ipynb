{
 "cells": [
  {
   "cell_type": "markdown",
   "metadata": {},
   "source": [
    "# 一、Interesting Linux Command"
   ]
  },
  {
   "cell_type": "markdown",
   "metadata": {},
   "source": [
    "1.who\\users<br/>\n",
    "shows who is logged on, it will show others Ip addr;<br/>\n",
    "2.which date<br/>\n",
    "lets you locate a command;<br/>\n",
    "3.whatis mkdir<br/>\n",
    "displays single-line manual page descriptions;<br/>\n",
    "4.wall ...<br/>\n",
    "lets you send a message to other users that are currently logged in;<br/>\n",
    "5.w<br/>\n",
    "displays information about the users currently on the machine, and their processes.<br/>\n",
    "6.uptime<br/>\n",
    "tells how long ther system has been running<br/>\n",
    "7.pidof CCSDaemon<br/>\n",
    "gives you the process ID of a running program/process.<br/>\n",
    "8.lscpu<br/>\n",
    "displays in output system’s CPU architecture information (such as number of CPUs, threads, cores, sockets, and more).<br/>\n",
    "9.lshw<br/>\n",
    "The lshw command extracts and displays detailed information on the hardware configuration of the machine.<br/>\n",
    "10.ln test.txt lnk<br/>\n",
    "The ln command is used for creating link between files.<br/> \n",
    "11.last<br/>\n",
    "The last command shows listing of last logged in users.<br/>\n",
    "12.env<br/>\n",
    "displays the current environment variable value<br/>\n",
    "13.dmesg<br/>\n",
    "查看内核引导和运行诊断信息<br/>\n",
    "14.grep<br/>\n",
    "The grep command searches for a specified pattern in a file (or files) and displays in output lines containing that pattern.<br/>\n",
    "Eg:grep Hello test.txt(文件)<br/>\n",
    "Eg:grep -r test /usr(目录)<br/>\n",
    "15.sstscom<br/>\n",
    "Eg:sstscom /dev/ttyUSB12 115200 lts mdm  抓取串口日志<br/>\n",
    "16.tcpdump<br/>\n",
    "Eg:tcpdump -s 0 -i eth1 -w /ram/111.pcap &  抓取网卡eth1的数据包并保存<br/>\n",
    "Eg:tcpdump -s 0 -i any -w /ram/111.pcap &  抓取所有网卡的数据包并保存<br/>\n",
    "Eg:tcpdump -s 0 -n 192.168.253.20 -w /ram/111.pcap &  抓取该IP地址的数据包并保存<br/>\n",
    "17.压缩和解压<br/>\n",
    "压缩和解压：<br/>\n",
    "zip：<br/>\n",
    "打包 ：zip AAA.zip AAA（目录请加 -r 参数）<br/>\n",
    "解包：unzip AAA.zip<br/>\n",
    "\n",
    "tar：<br/>\n",
    "打包：tar -cvf AAA.tar AAA<br/>\n",
    "解包：tar -xvf AAA.tar<br/>\n",
    "(如果是tgz加z：tar -zxvf AAA.tgz)<br/>\n",
    "(如果是txz: tar -Jxf AAA.txz)<br/>\n",
    "<br/>\n",
    "xz:<br/>\n",
    "打包：xz -z AAA<br/>\n",
    "解包：xz -d AAA.xz<br/>\n",
    "<br/>\n",
    "gz:<br/>\n",
    "解包：gzip -d AAA.gz<br/>"
   ]
  },
  {
   "cell_type": "markdown",
   "metadata": {},
   "source": [
    "# 二、Linux Process"
   ]
  },
  {
   "cell_type": "markdown",
   "metadata": {},
   "source": [
    "1.Linux目前实现了6种调度策略（即调度算法）"
   ]
  },
  {
   "cell_type": "markdown",
   "metadata": {},
   "source": [
    "SCHED_NORMAL、SCHED_BATCH：普通的非实时进程<br/>\n",
    "　用nice来形容它们的优先级，nice越高，优先级越低。<br/>\n",
    "　pvruntime =  pruntime * NICE_0_LOAD/ weight<br/>\n",
    "　其中NICE_0_LOAD=1024<br/>\n",
    "　所以，普通进程的调度，是一个综合考虑你喜欢干活还是喜欢睡和你的nice值是多少的结果。<br/>\n",
    "　鉴于此，我们去问一个普通进程的调度延迟究竟有多大，这个问题，本身意义就不是特别大，<br/>\n",
    "　它完全取决于当前的系统里面还有谁在跑，取决于你唤醒的进程的nice和它前面喜欢不喜欢睡觉。<br/>"
   ]
  },
  {
   "cell_type": "markdown",
   "metadata": {},
   "source": [
    "SCHED_FIFO、SCHED_RR、SCHED_DEADLINE：实时进程<br/>\n",
    "　优先级高先执行；优先级高的睡眠了后优先级的执行；<br/>\n",
    "　同等优先级的SCHED_FIFO先ready的跑到睡，后ready的接着跑；而同等优先级的RR则进行时间片轮转<br/>"
   ]
  },
  {
   "cell_type": "markdown",
   "metadata": {},
   "source": [
    "SCHED_IDLE：在系统空闲时调用idle进程<br/>\n"
   ]
  },
  {
   "cell_type": "markdown",
   "metadata": {},
   "source": [
    "# 三、Linux Memory"
   ]
  },
  {
   "cell_type": "markdown",
   "metadata": {},
   "source": [
    "1.\n",
    "vss(虚拟地址空间，Virtual Set Size)<br/>\n",
    "rss(驻留在内存条上的内存，Resident SetSize)<br/>\n",
    "pss(按比例计算的驻留内存, Proportional Set Size)<br/>\n",
    "uss(独占且驻留的内存, Unique Set Size)<br/>\n",
    "![](./Linux/vss.png)<br/>\n",
    "仅从此图而言，进程1044:<br/>\n",
    "vss=1+2+3<br/>\n",
    "rss=4+5+6<br/>\n",
    "pss=4/3+5/2+6<br/>\n",
    "uss=6"
   ]
  },
  {
   "cell_type": "markdown",
   "metadata": {},
   "source": [
    "# 四、守护进程"
   ]
  },
  {
   "attachments": {},
   "cell_type": "markdown",
   "metadata": {},
   "source": [
    "1．在系统期间通过系统的初始化脚本启动守护进程。这些脚本通常在目录etc/rc.d 下，通过它们所启动的守护进程具有超级用户的权限。系统的一些基本服务程序通常都是通过该方式启动的。<br/>\n",
    "2．很多网络服务程序是由inetd 守护程序启动的。它监听各种网络请求，如telnet、ftp 等，在请求到达时启动相应的服务器程序（telnet server、ftp server 等）。<br/>\n",
    "3．由cron 定时启动的处理程序。这些程序在运行时实际上也是一个守护进程。<br/>\n",
    "4．由at 启动的处理程序。<br/>\n",
    "5．守护程序也可以从终端启动，通常这种方式只用于守护进程的测试，或者是重起因某种原因而停止的进程。<br/>\n",
    "6．在终端上用nohup 启动的进程。用这种方法可以把所有的程序都变为守护进程。<br/>\n"
   ]
  },
  {
   "cell_type": "markdown",
   "metadata": {},
   "source": [
    "# 五、Misc"
   ]
  },
  {
   "cell_type": "markdown",
   "metadata": {},
   "source": [
    "1.Vim<br/>\n",
    "高亮显示：g+d<br/>"
   ]
  },
  {
   "cell_type": "markdown",
   "metadata": {},
   "source": [
    "2.Git<br/>\n",
    "git fetch origin<br/>\n",
    "git merge origin/master<br/>\n",
    "git pull(==git fetch+git merge)<br/>\n",
    "git pull --rebase origin master<br/>\n",
    "<br/>\n",
    "git push origin master:refs/for/master<br/>\n",
    "git reset --hard origin/master<br/>\n",
    "git reset --hard HEAD^<br/>\n",
    "<br/>\n",
    "git merge --squash dev<br/>\n",
    "git commit --amend<br/>"
   ]
  },
  {
   "cell_type": "markdown",
   "metadata": {},
   "source": [
    "# Reference"
   ]
  },
  {
   "cell_type": "markdown",
   "metadata": {},
   "source": [
    "https://blog.csdn.net/21cnbao/article/details/77505330"
   ]
  },
  {
   "cell_type": "code",
   "execution_count": null,
   "metadata": {},
   "outputs": [],
   "source": []
  }
 ],
 "metadata": {
  "kernelspec": {
   "display_name": "Python 3",
   "language": "python",
   "name": "python3"
  },
  "language_info": {
   "codemirror_mode": {
    "name": "ipython",
    "version": 3
   },
   "file_extension": ".py",
   "mimetype": "text/x-python",
   "name": "python",
   "nbconvert_exporter": "python",
   "pygments_lexer": "ipython3",
   "version": "3.5.2"
  }
 },
 "nbformat": 4,
 "nbformat_minor": 2
}
