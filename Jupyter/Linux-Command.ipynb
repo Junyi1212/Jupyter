{
 "cells": [
  {
   "cell_type": "markdown",
   "metadata": {},
   "source": [
    "# 常用命令"
   ]
  },
  {
   "cell_type": "markdown",
   "metadata": {},
   "source": [
    "1.who\\users<br/>\n",
    "shows who is logged on, it will show others Ip addr;<br/>\n",
    "2.which date<br/>\n",
    "lets you locate a command;<br/>\n",
    "3.whatis mkdir<br/>\n",
    "displays single-line manual page descriptions;<br/>\n",
    "4.wall ...<br/>\n",
    "lets you send a message to other users that are currently logged in;<br/>\n",
    "5.w<br/>\n",
    "displays information about the users currently on the machine, and their processes.<br/>\n",
    "6.uptime<br/>\n",
    "tells how long ther system has been running<br/>\n",
    "7.pidof CCSDaemon<br/>\n",
    "gives you the process ID of a running program/process.<br/>\n",
    "8.lscpu<br/>\n",
    "displays in output system’s CPU architecture information (such as number of CPUs, threads, cores, sockets, and more).<br/>\n",
    "9.lshw<br/>\n",
    "The lshw command extracts and displays detailed information on the hardware configuration of the machine.<br/>\n",
    "10.ln test.txt lnk<br/>\n",
    "The ln command is used for creating link between files.<br/> \n",
    "11.last<br/>\n",
    "The last command shows listing of last logged in users.<br/>\n",
    "12.env<br/>\n",
    "displays the current environment variable value<br/>\n",
    "13.dmesg<br/>\n",
    "查看内核引导和运行诊断信息<br/>\n",
    "14.grep<br/>\n",
    "The grep command searches for a specified pattern in a file (or files) and displays in output lines containing that pattern.<br/>\n",
    "Eg:grep Hello test.txt(文件)<br/>\n",
    "Eg:grep -r test /usr(目录)<br/>\n",
    "15.sstscom<br/>\n",
    "Eg:sstscom /dev/ttyUSB12 115200 lts mdm  抓取串口日志<br/>\n",
    "16.tcpdump<br/>\n",
    "Eg:tcpdump -s 0 -i eth1 -w /ram/111.pcap &  抓取网卡eth1的数据包并保存<br/>\n",
    "Eg:tcpdump -s 0 -i any -w /ram/111.pcap &  抓取所有网卡的数据包并保存<br/>\n",
    "Eg:tcpdump -s 0 -n 192.168.253.20 -w /ram/111.pcap &  抓取该IP地址的数据包并保存<br/>\n",
    "17.压缩和解压<br/>\n",
    "压缩和解压：<br/>\n",
    "zip：<br/>\n",
    "打包 ：zip AAA.zip AAA（目录请加 -r 参数）<br/>\n",
    "解包：unzip AAA.zip<br/>\n",
    "\n",
    "tar：<br/>\n",
    "打包：tar -cvf AAA.tar AAA<br/>\n",
    "解包：tar -xvf AAA.tar<br/>\n",
    "(如果是tgz加z：tar -zxvf AAA.tgz)<br/>\n",
    "(如果是txz: tar -Jxf AAA.txz)<br/>\n",
    "<br/>\n",
    "xz:<br/>\n",
    "打包：xz -z AAA<br/>\n",
    "解包：xz -d AAA.xz<br/>\n",
    "<br/>\n",
    "gz:<br/>\n",
    "解包：gzip -d AAA.gz<br/>"
   ]
  },
  {
   "cell_type": "markdown",
   "metadata": {},
   "source": [
    "# 有意思"
   ]
  },
  {
   "cell_type": "markdown",
   "metadata": {},
   "source": [
    "使用前先安装：<br/>\n",
    "sudo apt-get update<br/>\n",
    "sudo apt-get install sysvbanner(想要安装的命令)<br/>"
   ]
  },
  {
   "cell_type": "markdown",
   "metadata": {},
   "source": [
    "1.输出图形字符的命令：<br/>\n",
    "banner UPHWAPI<br/>\n",
    "printerbanner -w 50 UPHWAPI<br/>\n",
    "toilet UPHWAPI<br/>\n",
    "figlet UPHWAPI<br/>"
   ]
  },
  {
   "cell_type": "markdown",
   "metadata": {},
   "source": [
    "2.召唤出眼睛<br/>\n",
    "xeyes"
   ]
  },
  {
   "cell_type": "markdown",
   "metadata": {},
   "source": [
    "3.黑客帝国数字雨<br/>\n",
    "cmatrix<br/>\n",
    "注：为了更好的效果，终端修改为黑底绿字，F11全屏显示<br/>"
   ]
  },
  {
   "cell_type": "markdown",
   "metadata": {},
   "source": [
    "4.显示火炉<br/>\n",
    "安装：sudo apt-get install libaa-bin<br/>\n",
    "aafire"
   ]
  },
  {
   "cell_type": "markdown",
   "metadata": {},
   "source": [
    "5.动物说话<br/>\n",
    "安装：sudo npm install -g cowsay<br/>\n",
    "\n",
    "#安装中文版 fortune-zh<br/>\n",
    "sudo apt-get install fortune-zh<br/>\n",
    "\n",
    "#此外它还可以结合我们之前的作业讲过的 fortune 命令一起使用<br/>\n",
    "fortune | cowsay -f daemon<br/>\n",
    "\n",
    "#随机用某个动物说话<br/>\n",
    "fortune | cowsay -f $(ls /usr/share/cowsay/*.cow | shuf -n1) | lolcat<br/>\n",
    "注：lolcat是让前面的字符彩色输出\n",
    "\n",
    "#动物思考<br/>\n",
    "fortune | cowthink -f daemon<br/>\n",
    "\n",
    "#类似的<br/>\n",
    "xcowsay、xcowthink"
   ]
  },
  {
   "cell_type": "markdown",
   "metadata": {},
   "source": [
    "6.小蜜蜂游戏<br/>\n",
    "/usr/games/ninvaders<br/>"
   ]
  },
  {
   "cell_type": "markdown",
   "metadata": {},
   "source": [
    "7.bb<br/>\n",
    "/usr/games/bb<br/>"
   ]
  },
  {
   "cell_type": "markdown",
   "metadata": {},
   "source": [
    "8.火车头<br/>\n",
    "sl"
   ]
  },
  {
   "cell_type": "markdown",
   "metadata": {},
   "source": [
    "9.显示系统、主题信息<br/>\n",
    "screenfetch"
   ]
  },
  {
   "cell_type": "markdown",
   "metadata": {},
   "source": [
    "10.linux版本logo图片及系统信息<br/>\n",
    "linuxlogo"
   ]
  },
  {
   "cell_type": "markdown",
   "metadata": {},
   "source": [
    "11.老鼠追着鼠标跑<br/>\n",
    "oneko"
   ]
  },
  {
   "cell_type": "markdown",
   "metadata": {},
   "source": [
    "12.telnet<br/>\n",
    "telnet towel.blinkenlighten.nl"
   ]
  },
  {
   "cell_type": "markdown",
   "metadata": {},
   "source": [
    "13.说话<br/>\n",
    "espeak"
   ]
  },
  {
   "cell_type": "markdown",
   "metadata": {},
   "source": [
    "14.匀速显示字符<br/>\n",
    "echo \"Tecmint[dot]com is a community of Linux Nerds and Geeks\" | pv -qL 10"
   ]
  },
  {
   "cell_type": "markdown",
   "metadata": {},
   "source": [
    "15.框上各种ASCII艺术画<br/>\n",
    "echo \"hello world\" | boxes -d dog"
   ]
  },
  {
   "cell_type": "markdown",
   "metadata": {},
   "source": [
    "15.屏保<br/>\n",
    "termsaver"
   ]
  },
  {
   "cell_type": "markdown",
   "metadata": {},
   "source": [
    "VIM游戏：https://vim-adventures.com/"
   ]
  },
  {
   "cell_type": "markdown",
   "metadata": {},
   "source": [
    "# 附录"
   ]
  },
  {
   "cell_type": "markdown",
   "metadata": {},
   "source": [
    "每天一个linux命令目录 http://www.cnblogs.com/peida/archive/2012/12/05/2803591.html"
   ]
  },
  {
   "cell_type": "markdown",
   "metadata": {},
   "source": [
    "netstat命令 http://man.linuxde.net/netstat"
   ]
  },
  {
   "cell_type": "markdown",
   "metadata": {},
   "source": [
    "nc命令 https://www.cnblogs.com/jjzd/p/6306273.html"
   ]
  }
 ],
 "metadata": {
  "kernelspec": {
   "display_name": "Python 3",
   "language": "python",
   "name": "python3"
  },
  "language_info": {
   "codemirror_mode": {
    "name": "ipython",
    "version": 3
   },
   "file_extension": ".py",
   "mimetype": "text/x-python",
   "name": "python",
   "nbconvert_exporter": "python",
   "pygments_lexer": "ipython3",
   "version": "3.5.2"
  }
 },
 "nbformat": 4,
 "nbformat_minor": 2
}
