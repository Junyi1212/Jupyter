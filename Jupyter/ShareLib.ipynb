{
 "cells": [
  {
   "cell_type": "markdown",
   "metadata": {},
   "source": [
    "# 动态库的动态链接、打开、调用"
   ]
  },
  {
   "cell_type": "markdown",
   "metadata": {},
   "source": [
    "1.相关函数都在#include <dlfcn.h>头文件里<br/>\n",
    "2.dlopen函数负责动态链接并打开指定动态库，第一个参数是动态库地址，第二个参数如下解释；<br/>\n",
    "~~~\n",
    "void * dlopen( const char * pathname, int mode)\n",
    "~~~\n",
    "3.dlsym函数负责动态加载符号（函数），第一个参数是句柄（由dlopen时返回的），第二个参数就是给定的函数名称<br/>\n",
    "4.dlclose函数负责关闭指定句柄的动态库，当该库的使用计数为0时，就会被卸载<br/>"
   ]
  },
  {
   "cell_type": "markdown",
   "metadata": {},
   "source": [
    "dlopen的第二个参数在linux下，按功能可分为三类，可通过‘|’组合使用：<br/>\n",
    "1.解析方式：<br/>\n",
    "RTLD_LAZY：   表示使用时才解析函数引用<br/>\n",
    "RTLD_NOW：   立即解析函数引用<br/>\n",
    "2.作用范围：<br/>\n",
    "RTLD_GLOBAL：  动态库中定义的符号可被其后打开的其它库解析<br/>\n",
    "RTLD_LOCAL：    与RTLD_GLOBAL相反，动态库中定义的符号不能被其打开的其它库重定位，如果没有明确指明，默认是RTLD_LOCAL<br/>\n",
    "3.作用方式：<br/>\n",
    "RTLD_NODELETE：    在dlclose()期间不卸载库，并且在以后使用dlopen()重新加载库时不初始化库中的静态变量。这个flag不是POSIX-2001标准。<br/>\n",
    "RTLD_NOLOAD：     不加载库。可用于测试库是否已加载(dlopen()返回NULL说明未加载，否则说明已加载），也可用于改变已加载库的flag，如：先前加载库的flag为RTLD_LOCAL，用dlopen(RTLD_NOLOAD|RTLD_GLOBAL)后flag将变成RTLD_GLOBAL。这个flag不是POSIX-2001标准<br/>\n",
    "RTLD_DEEPBIND：在搜索全局符号前先搜索库内的符号。避免同名符号的冲突。这个flag不是POSIX-2001标准"
   ]
  },
  {
   "cell_type": "markdown",
   "metadata": {},
   "source": [
    "返回值:<br/>\n",
    "打开错误返回NULL<br/>\n",
    "成功，返回库引用<br/>\n",
    "编译时候要增加 -ldl <br/>"
   ]
  },
  {
   "cell_type": "markdown",
   "metadata": {},
   "source": [
    "参考代码：/Main/Case5"
   ]
  }
 ],
 "metadata": {
  "kernelspec": {
   "display_name": "Python 3",
   "language": "python",
   "name": "python3"
  },
  "language_info": {
   "codemirror_mode": {
    "name": "ipython",
    "version": 3
   },
   "file_extension": ".py",
   "mimetype": "text/x-python",
   "name": "python",
   "nbconvert_exporter": "python",
   "pygments_lexer": "ipython3",
   "version": "3.5.2"
  }
 },
 "nbformat": 4,
 "nbformat_minor": 2
}
