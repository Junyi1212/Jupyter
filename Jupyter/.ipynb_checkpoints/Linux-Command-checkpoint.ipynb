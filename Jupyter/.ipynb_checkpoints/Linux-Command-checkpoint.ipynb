{
 "cells": [
  {
   "cell_type": "markdown",
   "metadata": {},
   "source": [
    "# 常用命令"
   ]
  },
  {
   "cell_type": "markdown",
   "metadata": {},
   "source": [
    "1.who\\users<br/>\n",
    "shows who is logged on, it will show others Ip addr;<br/>\n",
    "2.which date<br/>\n",
    "lets you locate a command;<br/>\n",
    "3.whatis mkdir<br/>\n",
    "displays single-line manual page descriptions;<br/>\n",
    "4.wall ...<br/>\n",
    "lets you send a message to other users that are currently logged in;<br/>\n",
    "5.w<br/>\n",
    "displays information about the users currently on the machine, and their processes.<br/>\n",
    "6.uptime<br/>\n",
    "tells how long ther system has been running<br/>\n",
    "7.pidof CCSDaemon<br/>\n",
    "gives you the process ID of a running program/process.<br/>\n",
    "8.lscpu<br/>\n",
    "displays in output system’s CPU architecture information (such as number of CPUs, threads, cores, sockets, and more).<br/>\n",
    "9.lshw<br/>\n",
    "The lshw command extracts and displays detailed information on the hardware configuration of the machine.<br/>\n",
    "10.ln test.txt lnk<br/>\n",
    "The ln command is used for creating link between files.<br/> \n",
    "11.last<br/>\n",
    "The last command shows listing of last logged in users.<br/>\n",
    "12.env<br/>\n",
    "displays the current environment variable value<br/>\n",
    "13.dmesg<br/>\n",
    "查看内核引导和运行诊断信息<br/>\n",
    "14.grep<br/>\n",
    "The grep command searches for a specified pattern in a file (or files) and displays in output lines containing that pattern.<br/>\n",
    "Eg:grep Hello test.txt(文件)<br/>\n",
    "Eg:grep -r test /usr(目录)<br/>\n",
    "15.sstscom<br/>\n",
    "Eg:sstscom /dev/ttyUSB12 115200 lts mdm  抓取串口日志<br/>\n",
    "16.tcpdump<br/>\n",
    "Eg:tcpdump -s 0 -i eth1 -w /ram/111.pcap &  抓取网卡eth1的数据包并保存<br/>\n",
    "Eg:tcpdump -s 0 -i any -w /ram/111.pcap &  抓取所有网卡的数据包并保存<br/>\n",
    "Eg:tcpdump -s 0 -n 192.168.253.20 -w /ram/111.pcap &  抓取该IP地址的数据包并保存<br/>\n",
    "17.df -h<br/>\n",
    "查看系统磁盘空间的使用情况<br/>\n",
    "18.du -sh \\*<br/>\n",
    "查看当前目录下各个文件及目录占用空间大小<br/>\n",
    "19.ps aux<br/>\n",
    "完整的ps命令<br/>\n",
    "\n",
    "20.压缩和解压<br/>\n",
    "压缩和解压：<br/>\n",
    "zip：<br/>\n",
    "打包 ：zip AAA.zip AAA（目录请加 -r 参数）<br/>\n",
    "解包：unzip AAA.zip<br/>\n",
    "\n",
    "tar：<br/>\n",
    "打包：tar -cvf AAA.tar AAA<br/>\n",
    "解包：tar -xvf AAA.tar<br/>\n",
    "(如果是tgz加z：tar -zxvf AAA.tgz)<br/>\n",
    "(如果是txz: tar -Jxf AAA.txz)<br/>\n",
    "<br/>\n",
    "xz:<br/>\n",
    "打包：xz -z AAA<br/>\n",
    "解包：xz -d AAA.xz<br/>\n",
    "<br/>\n",
    "gz:<br/>\n",
    "解包：gzip -d AAA.gz<br/>"
   ]
  },
  {
   "cell_type": "markdown",
   "metadata": {},
   "source": [
    "21.挂载<br/>\n",
    "挂载命令：mount（直接回车就是查看挂载）<br/>\n",
    "格式：mount 设备名 挂载点（即目录）<br/>\n",
    "mount /dev/sdb1 /mnt/data<br/>\n",
    "<br/>\n",
    "重启后，上述挂载会消失，可以在/etc/fstab文件保存挂载点<br/>\n",
    "格式：<br/>\n",
    "设备       挂载点   分区类型    选项      参数<br/>\n",
    "/dev/hda3  /home/     ext3      defaults  1 1/0 0<br/>\n",
    "<br/>\n",
    "断开挂载：<br/>\n",
    "格式： unmount 挂载点/设备名<br/>\n",
    "如果断开失败，使用以下命令查看：<br/>\n",
    "fuser -m /mnt查看文件系统的进程<br/>\n",
    "lsof /mnt查看正在被使用的文件<br/>"
   ]
  },
  {
   "cell_type": "markdown",
   "metadata": {},
   "source": [
    "22.链接文件<br/>\n",
    "文件链接分为 硬链接 和符号链接 两种形式。<br/>\n",
    "硬链接： <br/>\n",
    "\t建立硬链接时，是在另外的目录或本目录中增加目标文件的一个目录项，这样，一个文件就登记在多个目录中。<br/>\n",
    "\t默认情况下，ln创建硬链接：<br/>\n",
    "\tln file1 file1_hard<br/>\n",
    "\t限制：（1）不能对目录文件做硬链接，（2）不能在不同的文件系统之间做硬链接<br/>\n",
    "\t\n",
    "符号链接：<br/>\n",
    "\t也称软链接，将一个路径名链接到一个文件，这个文件是一种特别类型的文件，用l表示。<br/>\n",
    "\tln -s file2 file2_soft<br/>\n",
    "\t符号链接没有硬链接的限制<br/>\n",
    "<br/>\t\n",
    "不同点：<br/>\n",
    "\t符号链接确实是一个新文件，它具有与目标文件不同的I节点号（Index node），文件类型是l，权限是rwxrwxrwx,<br/>\n",
    "\t\t文件名有一个箭头指向源文件，真正的权限取决于对源文件的权限。<br/>\n",
    "\t硬链接并没有建立新文件，文件类型也是-，两个文件完全一样，只是存放地点不同，并且两个文件同步更新。<br/>\n",
    "\t<br/>\n",
    "可以根据i节点号判断文件是否相同：<br/>\n",
    "<user@machine>$ ls -il<br/>\n",
    "total 0<br/>\n",
    "7471105 -rw-r--r-- 2 user asn_gw 0 Aug 15 15:12 file1<br/>\n",
    "7471105 -rw-r--r-- 2 user asn_gw 0 Aug 15 15:12 file1_hard<br/>\n",
    "7471114 -rw-r--r-- 1 user asn_gw 0 Aug 15 15:12 file2<br/>\n",
    "7471117 lrwxrwxrwx 1 user asn_gw 5 Aug 15 15:12 file2_soft -> file2<br/>"
   ]
  },
  {
   "cell_type": "markdown",
   "metadata": {},
   "source": [
    "23.查看文件类型<br/>\n",
    "file 111.txt<br/>"
   ]
  },
  {
   "cell_type": "markdown",
   "metadata": {},
   "source": [
    "24.文件/目录查找命令：find<br/>\n",
    "find [搜索路径] [搜索关键字]<br/>\n",
    "例子：<br/>\n",
    "find . -name *init*\t\t(在当前目录查找文件名中含有init的文件)<br/>\n",
    "find /etc -name init \t(在目录/etc中查找文件init)<br/>\n",
    "find / -size +1024\t\t(在根目录下查找大小大于1024的文件)<br/>\n",
    "find / -user sam\t\t(在根目录下查找所有者为sam的文件)<br/>\n",
    "find / -perm 777 \t\t(在根目录下查找权限为777的文件)<br/>\n",
    "find / -type d\t\t\t(在根目录下查找目录类型文件)<br/>"
   ]
  },
  {
   "cell_type": "markdown",
   "metadata": {},
   "source": [
    "25.内容查找命令: grep<br/>\n",
    "在文件中搜寻字符串匹配的行并输出<br/>\n",
    "grep [指定内容] [源文件]<br/>\n",
    "例子：<br/>\n",
    "grep ftp /etc/services\t(在文件/etc/services中查找ftp字符串)<br/>\n",
    "ls -l | grep '^a'\t\t(通过管道过滤ls -l的输出的内容，只显示以a开头的行)<br/>\n",
    "grep 'test' d*\t\t\t(显示所有以d开头的文件中包含test的行)<br/>\n",
    "grep 'test' aa bb cc\t(显示在aa,bb,cc文件中匹配test的行)<br/>\n",
    "grep '[a-z]\\{5\\}' aa\t(显示在aa文件中至少有5个连续小写字符的字符串的行)<br/>"
   ]
  },
  {
   "cell_type": "markdown",
   "metadata": {},
   "source": [
    "# 网络相关命令见Socket.ipynb"
   ]
  },
  {
   "cell_type": "markdown",
   "metadata": {},
   "source": [
    "# 有意思的命令"
   ]
  },
  {
   "cell_type": "markdown",
   "metadata": {},
   "source": [
    "使用前先安装：<br/>\n",
    "sudo apt-get update<br/>\n",
    "sudo apt-get install sysvbanner(想要安装的命令)<br/>"
   ]
  },
  {
   "cell_type": "markdown",
   "metadata": {},
   "source": [
    "1.输出图形字符的命令：<br/>\n",
    "banner UPHWAPI<br/>\n",
    "printerbanner -w 50 UPHWAPI<br/>\n",
    "toilet UPHWAPI<br/>\n",
    "figlet UPHWAPI<br/>"
   ]
  },
  {
   "cell_type": "markdown",
   "metadata": {},
   "source": [
    "2.召唤出眼睛<br/>\n",
    "xeyes"
   ]
  },
  {
   "cell_type": "markdown",
   "metadata": {},
   "source": [
    "3.黑客帝国数字雨<br/>\n",
    "cmatrix<br/>\n",
    "注：为了更好的效果，终端修改为黑底绿字，F11全屏显示<br/>"
   ]
  },
  {
   "cell_type": "markdown",
   "metadata": {},
   "source": [
    "4.显示火炉<br/>\n",
    "安装：sudo apt-get install libaa-bin<br/>\n",
    "aafire"
   ]
  },
  {
   "cell_type": "markdown",
   "metadata": {},
   "source": [
    "5.动物说话<br/>\n",
    "安装：sudo npm install -g cowsay<br/>\n",
    "\n",
    "安装中文版 fortune-zh<br/>\n",
    "sudo apt-get install fortune-zh<br/>\n",
    "\n",
    "此外它还可以结合我们之前的作业讲过的 fortune 命令一起使用<br/>\n",
    "fortune | cowsay -f daemon<br/>\n",
    "\n",
    "随机用某个动物说话<br/>\n",
    "fortune | cowsay -f $(ls /usr/share/cowsay/*.cow | shuf -n1) | lolcat<br/>\n",
    "注：lolcat是让前面的字符彩色输出\n",
    "\n",
    "动物思考<br/>\n",
    "fortune | cowthink -f daemon<br/>\n",
    "\n",
    "类似的<br/>\n",
    "xcowsay、xcowthink"
   ]
  },
  {
   "cell_type": "markdown",
   "metadata": {},
   "source": [
    "6.小蜜蜂游戏<br/>\n",
    "/usr/games/ninvaders<br/>"
   ]
  },
  {
   "cell_type": "markdown",
   "metadata": {},
   "source": [
    "7.bb<br/>\n",
    "/usr/games/bb<br/>"
   ]
  },
  {
   "cell_type": "markdown",
   "metadata": {},
   "source": [
    "8.火车头<br/>\n",
    "sl"
   ]
  },
  {
   "cell_type": "markdown",
   "metadata": {},
   "source": [
    "9.显示系统、主题信息<br/>\n",
    "screenfetch"
   ]
  },
  {
   "cell_type": "markdown",
   "metadata": {},
   "source": [
    "10.linux版本logo图片及系统信息<br/>\n",
    "linuxlogo"
   ]
  },
  {
   "cell_type": "markdown",
   "metadata": {},
   "source": [
    "11.老鼠追着鼠标跑<br/>\n",
    "oneko"
   ]
  },
  {
   "cell_type": "markdown",
   "metadata": {},
   "source": [
    "12.telnet<br/>\n",
    "telnet towel.blinkenlighten.nl"
   ]
  },
  {
   "cell_type": "markdown",
   "metadata": {},
   "source": [
    "13.说话<br/>\n",
    "espeak"
   ]
  },
  {
   "cell_type": "markdown",
   "metadata": {},
   "source": [
    "14.匀速显示字符<br/>\n",
    "echo \"Tecmint[dot]com is a community of Linux Nerds and Geeks\" | pv -qL 10"
   ]
  },
  {
   "cell_type": "markdown",
   "metadata": {},
   "source": [
    "15.框上各种ASCII艺术画<br/>\n",
    "echo \"hello world\" | boxes -d dog"
   ]
  },
  {
   "cell_type": "markdown",
   "metadata": {},
   "source": [
    "15.屏保<br/>\n",
    "termsaver"
   ]
  },
  {
   "cell_type": "markdown",
   "metadata": {},
   "source": [
    "VIM游戏：https://vim-adventures.com/"
   ]
  },
  {
   "cell_type": "markdown",
   "metadata": {},
   "source": [
    "# 附录"
   ]
  },
  {
   "cell_type": "markdown",
   "metadata": {},
   "source": [
    "每天一个linux命令目录 http://www.cnblogs.com/peida/archive/2012/12/05/2803591.html"
   ]
  },
  {
   "cell_type": "markdown",
   "metadata": {},
   "source": [
    "netstat命令 http://man.linuxde.net/netstat"
   ]
  },
  {
   "cell_type": "markdown",
   "metadata": {},
   "source": [
    "nc命令 https://www.cnblogs.com/jjzd/p/6306273.html"
   ]
  }
 ],
 "metadata": {
  "kernelspec": {
   "display_name": "Python 3",
   "language": "python",
   "name": "python3"
  },
  "language_info": {
   "codemirror_mode": {
    "name": "ipython",
    "version": 3
   },
   "file_extension": ".py",
   "mimetype": "text/x-python",
   "name": "python",
   "nbconvert_exporter": "python",
   "pygments_lexer": "ipython3",
   "version": "3.5.2"
  }
 },
 "nbformat": 4,
 "nbformat_minor": 2
}
