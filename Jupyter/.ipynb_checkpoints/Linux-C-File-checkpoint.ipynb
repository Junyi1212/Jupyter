{
 "cells": [
  {
   "cell_type": "markdown",
   "metadata": {},
   "source": [
    "open,read,write,close属于底层的文件描述符<br/>\n",
    "fopen,fread,fwrite,fclose属于stdio的高层文件流<br/>\n",
    "<br/>\n",
    "每个文件流都和一个底层文件描述符相关联<br/>\n",
    "<br/>\n",
    "#include <stdio.h><br/>\n",
    "int fileno(FILE *stream);//文件流=>>文件描述符<br/>\n",
    "返回指定文件流使用的文件描述符，（例如对已经打开的文件流进行底层访问fstat）<br/>\n",
    "\n",
    "FILE *fdopen(int fildes, const char *mode);//文件描述符 =>>文件流<br/>\n",
    "在一个已打开的文件描述符上创建一个新的文件流，或者理解成为一个已经打开的文件描述符提供stdio缓冲区<br/>\n",
    "\n"
   ]
  },
  {
   "cell_type": "code",
   "execution_count": null,
   "metadata": {},
   "outputs": [],
   "source": []
  }
 ],
 "metadata": {
  "kernelspec": {
   "display_name": "Python 3",
   "language": "python",
   "name": "python3"
  },
  "language_info": {
   "codemirror_mode": {
    "name": "ipython",
    "version": 3
   },
   "file_extension": ".py",
   "mimetype": "text/x-python",
   "name": "python",
   "nbconvert_exporter": "python",
   "pygments_lexer": "ipython3",
   "version": "3.5.2"
  }
 },
 "nbformat": 4,
 "nbformat_minor": 2
}
