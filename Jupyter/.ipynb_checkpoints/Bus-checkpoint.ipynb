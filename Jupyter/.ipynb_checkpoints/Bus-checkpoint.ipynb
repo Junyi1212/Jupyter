{
 "cells": [
  {
   "cell_type": "markdown",
   "metadata": {},
   "source": [
    "# 一、SPI"
   ]
  },
  {
   "cell_type": "markdown",
   "metadata": {},
   "source": [
    "![](./Bus/SPI.jpg)<br/>"
   ]
  },
  {
   "cell_type": "markdown",
   "metadata": {},
   "source": [
    "SPI接口经常被称为4线串行总线，以主/从方式工作，数据传输过程由主机初始化。其使用的4条信号线分别为：<br/>\n",
    "\n",
    "1.SCLK：串行时钟，用来同步数据传输，由主机输出；<br/>\n",
    "\n",
    "2.MOSI：主机输出从机输入数据线；<br/>\n",
    "\n",
    "3.MISO：主机输入从机输出数据线；<br/>\n",
    "\n",
    "4.SS：片选线，低电平有效，由主机输出<br/>"
   ]
  },
  {
   "cell_type": "markdown",
   "metadata": {},
   "source": [
    "全双工"
   ]
  },
  {
   "cell_type": "markdown",
   "metadata": {},
   "source": [
    "# 二、I2C"
   ]
  },
  {
   "cell_type": "markdown",
   "metadata": {},
   "source": [
    "![](./Bus/I2C.jpg)<br/>"
   ]
  },
  {
   "cell_type": "markdown",
   "metadata": {},
   "source": [
    "2条双向串行线，一条数据线SDA，一条时钟线SCL。<br/>\n",
    "SDA传输数据是大端传输，每次传输8bit，即一字节。<br/>"
   ]
  },
  {
   "cell_type": "markdown",
   "metadata": {},
   "source": [
    "专用的I2C接口、GPIO模拟"
   ]
  },
  {
   "cell_type": "markdown",
   "metadata": {},
   "source": [
    "# 三、I2S"
   ]
  },
  {
   "cell_type": "markdown",
   "metadata": {},
   "source": [
    "I2S为三线总线，3个信号分别为：<br/>\n",
    "1.串行时钟SCK，也叫位时钟（BCK）<br/>\n",
    "即每发送1位数字音频数据，SCK上都有1个脉冲。SCK的频率=2×采样频率×采样位数。在数据传输过程中，I2S总线的发送器和接收器都可以作为系统的主机来提供系统的时钟频率。<br/>\n",
    "<br/>\n",
    "2.帧时钟WS，即命令（声道）选择，用于切换左右声道的数据。<br/>\n",
    "WS的频率等于采样频率，由系统主机提供。WS为“1”表示传输的是左声道的数据，WS为“0”表示传输的是右声道的数据。<br/>\n",
    "<br/>\n",
    "3.串行数据信号SD，用于传输二进制补码表示的音频数据。<br/>\n",
    "I2S格式的信号无论有多少位有效数据，数据位的最高位（MSB）总是被最先传输，1次能够发送的数据决定于I2S格式的有效位数。"
   ]
  },
  {
   "cell_type": "markdown",
   "metadata": {},
   "source": [
    "![](./Bus/I2SL.jpg)<br/>"
   ]
  },
  {
   "cell_type": "markdown",
   "metadata": {},
   "source": [
    "<center>16位有效位数的左对齐格式</center>"
   ]
  },
  {
   "cell_type": "markdown",
   "metadata": {},
   "source": [
    "![](./Bus/I2SR.jpg)<br/>"
   ]
  },
  {
   "cell_type": "markdown",
   "metadata": {},
   "source": [
    "<center>16位有效位数的右对齐格式</center>"
   ]
  },
  {
   "cell_type": "markdown",
   "metadata": {},
   "source": [
    "# 四、UART"
   ]
  },
  {
   "cell_type": "markdown",
   "metadata": {},
   "source": [
    "UART使用的是 异步，串行通信。<br/>\n",
    "    串行通信是指利用一条传输线将资料一位位地顺序传送。特点是通信线路简单，利用简单的线缆就可实现通信，降低成本，适用于远距离通信，但传输速度慢的应用场合。<br/>\n",
    "    异步通信以一个字符为传输单位，通信中两个字符间的时间间隔多少是不固定的，然而在同一个字符中的两个相邻位间的时间间隔是固定的。 <br/>\n",
    "    数据传送速率用波特率来表示，即每秒钟传送的二进制位数。例如数据传送速率为120字符/秒，而每一个字符为10位（1个起始位，7个数据位，1个校验位，1个结束位），则其传送的波特率为10×120＝1200字符/秒＝1200波特。<br/>"
   ]
  },
  {
   "cell_type": "markdown",
   "metadata": {},
   "source": [
    "![](./Bus/UART1.jpg)<br/>"
   ]
  },
  {
   "cell_type": "markdown",
   "metadata": {},
   "source": [
    "其中各位的意义如下：<br/>\n",
    "    起始位：先发出一个逻辑”0”信号，表示传输字符的开始。\n",
    "    数据位：可以是5~8位逻辑”0”或”1”。如ASCII码（7位），扩展BCD码（8位）。小端传输\n",
    "    校验位：数据位加上这一位后，使得“1”的位数应为偶数(偶校验)或奇数(奇校验)\n",
    "    停止位：它是一个字符数据的结束标志。可以是1位、1.5位、2位的高电平。\n",
    "    空闲位：处于逻辑“1”状态，表示当前线路上没有资料传送。"
   ]
  },
  {
   "cell_type": "markdown",
   "metadata": {},
   "source": [
    "![](./Bus/UART2.jpg)<br/>"
   ]
  },
  {
   "cell_type": "markdown",
   "metadata": {},
   "source": [
    "异步通信是按字符传输的，接收设备在收到起始信号之后只要在一个字符的传输时间内能和发送设备保持同步就能正确接收。下一个字符起始位的到来又使同步重新校准（依靠检测起始位来实现发送与接收方的时钟自同步的）"
   ]
  }
 ],
 "metadata": {
  "kernelspec": {
   "display_name": "Python 3",
   "language": "python",
   "name": "python3"
  },
  "language_info": {
   "codemirror_mode": {
    "name": "ipython",
    "version": 3
   },
   "file_extension": ".py",
   "mimetype": "text/x-python",
   "name": "python",
   "nbconvert_exporter": "python",
   "pygments_lexer": "ipython3",
   "version": "3.5.2"
  }
 },
 "nbformat": 4,
 "nbformat_minor": 2
}
